{
 "cells": [
  {
   "cell_type": "code",
   "execution_count": 20,
   "metadata": {},
   "outputs": [],
   "source": [
    "# Importing libraries\n",
    "import pandas as pd\n",
    "import numpy as np\n",
    "from sklearn.feature_extraction.text import TfidfVectorizer\n",
    "from sklearn.model_selection import train_test_split, GridSearchCV\n",
    "from sklearn.neighbors import KNeighborsClassifier\n",
    "from sklearn.metrics import accuracy_score, classification_report\n",
    "\n"
   ]
  },
  {
   "cell_type": "code",
   "execution_count": 21,
   "id": "97c9ed75",
   "metadata": {},
   "outputs": [],
   "source": [
    "# Loading the dataset\n",
    "df = pd.read_csv('mbti_1.csv')\n",
    "\n",
    "# Splitting the dataset into training and testing sets\n",
    "X_train, X_test, y_train, y_test = train_test_split(df['posts'], df['type'], test_size=0.2, random_state=42)\n",
    "\n",
    "# Converting text data into numerical features using TF-IDF vectorization\n",
    "vectorizer = TfidfVectorizer(max_features=5000, stop_words='english')\n",
    "X_train_tfidf = vectorizer.fit_transform(X_train)\n",
    "X_test_tfidf = vectorizer.transform(X_test)\n",
    "\n"
   ]
  },
  {
   "cell_type": "code",
   "execution_count": 22,
   "metadata": {},
   "outputs": [],
   "source": [
    "# Initializing and training the KNN model\n",
    "knn_model = KNeighborsClassifier(n_neighbors=21) \n",
    "knn_model.fit(X_train_tfidf, y_train)\n",
    "\n",
    "# Predicting personality types on the test set\n",
    "y_pred = knn_model.predict(X_test_tfidf)"
   ]
  },
  {
   "cell_type": "code",
   "execution_count": 24,
   "metadata": {},
   "outputs": [
    {
     "name": "stdout",
     "output_type": "stream",
     "text": [
      "Accuracy: 0.45994236311239195\n",
      "Classification Report:\n",
      "               precision    recall  f1-score   support\n",
      "\n",
      "        ENFJ       0.50      0.20      0.28        41\n",
      "        ENFP       0.47      0.50      0.48       125\n",
      "        ENTJ       0.82      0.32      0.46        44\n",
      "        ENTP       0.68      0.30      0.41       135\n",
      "        ESFJ       0.20      0.29      0.24         7\n",
      "        ESFP       1.00      0.00      0.00         8\n",
      "        ESTJ       0.33      0.14      0.20         7\n",
      "        ESTP       1.00      0.33      0.50        15\n",
      "        INFJ       0.38      0.58      0.46       288\n",
      "        INFP       0.39      0.76      0.52       370\n",
      "        INTJ       0.50      0.27      0.35       193\n",
      "        INTP       0.71      0.39      0.50       293\n",
      "        ISFJ       0.94      0.38      0.54        45\n",
      "        ISFP       0.75      0.11      0.20        53\n",
      "        ISTJ       0.92      0.25      0.39        44\n",
      "        ISTP       0.81      0.19      0.31        67\n",
      "\n",
      "    accuracy                           0.46      1735\n",
      "   macro avg       0.65      0.31      0.37      1735\n",
      "weighted avg       0.56      0.46      0.44      1735\n",
      "\n"
     ]
    }
   ],
   "source": [
    "# Evaluating the model\n",
    "accuracy = accuracy_score(y_test, y_pred)\n",
    "classification_rep = classification_report(y_test, y_pred, zero_division=1)\n",
    "\n",
    "# Printing results\n",
    "print(f\"Accuracy: {accuracy}\")\n",
    "print(\"Classification Report:\\n\", classification_rep)"
   ]
  }
 ],
 "metadata": {
  "kernelspec": {
   "display_name": "Python 3 (ipykernel)",
   "language": "python",
   "name": "python3"
  },
  "language_info": {
   "codemirror_mode": {
    "name": "ipython",
    "version": 3
   },
   "file_extension": ".py",
   "mimetype": "text/x-python",
   "name": "python",
   "nbconvert_exporter": "python",
   "pygments_lexer": "ipython3",
   "version": "3.9.0"
  }
 },
 "nbformat": 4,
 "nbformat_minor": 5
}
