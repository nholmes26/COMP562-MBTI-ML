{
 "cells": [
  {
   "cell_type": "code",
   "execution_count": 1,
   "metadata": {},
   "outputs": [],
   "source": [
    "import pandas as pd\n",
    "import numpy as np\n",
    "from sklearn.feature_extraction.text import TfidfVectorizer\n",
    "from sklearn.model_selection import train_test_split, GridSearchCV\n",
    "from sklearn.neighbors import KNeighborsClassifier\n",
    "from sklearn.metrics import accuracy_score, classification_report\n",
    "\n"
   ]
  },
  {
   "cell_type": "code",
   "execution_count": 2,
   "id": "97c9ed75",
   "metadata": {},
   "outputs": [],
   "source": [
    "# Load your dataset\n",
    "df = pd.read_csv('mbti_1.csv')\n",
    "\n",
    "# Split the dataset into training and testing sets\n",
    "X_train, X_test, y_train, y_test = train_test_split(df['posts'], df['type'], test_size=0.2, random_state=42)\n",
    "\n",
    "# Convert text data into numerical features using TF-IDF vectorization\n",
    "vectorizer = TfidfVectorizer(max_features=5000, stop_words='english')\n",
    "X_train_tfidf = vectorizer.fit_transform(X_train)\n",
    "X_test_tfidf = vectorizer.transform(X_test)\n",
    "\n"
   ]
  },
  {
   "cell_type": "code",
   "execution_count": 5,
   "metadata": {},
   "outputs": [],
   "source": [
    "# Initialize and train the KNN model\n",
    "knn_model = KNeighborsClassifier(n_neighbors=15)  # You can adjust the value of 'n_neighbors'\n",
    "knn_model.fit(X_train_tfidf, y_train)\n",
    "\n",
    "# Predict personality types on the test set\n",
    "y_pred = knn_model.predict(X_test_tfidf)"
   ]
  },
  {
   "cell_type": "code",
   "execution_count": 4,
   "metadata": {},
   "outputs": [
    {
     "name": "stdout",
     "output_type": "stream",
     "text": [
      "Accuracy: 0.3809798270893372\n",
      "Classification Report:\n",
      "               precision    recall  f1-score   support\n",
      "\n",
      "        ENFJ       0.11      0.22      0.15        41\n",
      "        ENFP       0.28      0.55      0.37       125\n",
      "        ENTJ       0.39      0.27      0.32        44\n",
      "        ENTP       0.44      0.31      0.37       135\n",
      "        ESFJ       0.21      0.43      0.29         7\n",
      "        ESFP       0.00      0.00      0.00         8\n",
      "        ESTJ       0.33      0.29      0.31         7\n",
      "        ESTP       0.33      0.33      0.33        15\n",
      "        INFJ       0.33      0.48      0.39       288\n",
      "        INFP       0.42      0.54      0.48       370\n",
      "        INTJ       0.36      0.18      0.24       193\n",
      "        INTP       0.62      0.35      0.45       293\n",
      "        ISFJ       0.68      0.33      0.45        45\n",
      "        ISFP       0.33      0.15      0.21        53\n",
      "        ISTJ       0.64      0.20      0.31        44\n",
      "        ISTP       0.64      0.13      0.22        67\n",
      "\n",
      "    accuracy                           0.38      1735\n",
      "   macro avg       0.38      0.30      0.30      1735\n",
      "weighted avg       0.43      0.38      0.38      1735\n",
      "\n"
     ]
    }
   ],
   "source": [
    "# Evaluate the model\n",
    "accuracy = accuracy_score(y_test, y_pred)\n",
    "classification_rep = classification_report(y_test, y_pred)\n",
    "\n",
    "# Print the results\n",
    "print(f\"Accuracy: {accuracy}\")\n",
    "print(\"Classification Report:\\n\", classification_rep)"
   ]
  }
 ],
 "metadata": {
  "kernelspec": {
   "display_name": "Python 3 (ipykernel)",
   "language": "python",
   "name": "python3"
  },
  "language_info": {
   "codemirror_mode": {
    "name": "ipython",
    "version": 3
   },
   "file_extension": ".py",
   "mimetype": "text/x-python",
   "name": "python",
   "nbconvert_exporter": "python",
   "pygments_lexer": "ipython3",
   "version": "3.9.0"
  }
 },
 "nbformat": 4,
 "nbformat_minor": 5
}
