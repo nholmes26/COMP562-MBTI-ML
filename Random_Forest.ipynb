{
 "cells": [
  {
   "cell_type": "code",
   "execution_count": 27,
   "metadata": {},
   "outputs": [
    {
     "name": "stdout",
     "output_type": "stream",
     "text": [
      "Accuracy: 0.56\n",
      "              precision    recall  f1-score   support\n",
      "\n",
      "        ENFJ       0.00      0.00      0.00        41\n",
      "        ENFP       0.79      0.38      0.52       125\n",
      "        ENTJ       0.67      0.05      0.09        44\n",
      "        ENTP       0.70      0.47      0.56       135\n",
      "        ESFJ       0.00      0.00      0.00         7\n",
      "        ESFP       0.00      0.00      0.00         8\n",
      "        ESTJ       0.00      0.00      0.00         7\n",
      "        ESTP       0.00      0.00      0.00        15\n",
      "        INFJ       0.59      0.67      0.63       288\n",
      "        INFP       0.45      0.91      0.60       370\n",
      "        INTJ       0.62      0.59      0.60       193\n",
      "        INTP       0.68      0.71      0.70       293\n",
      "        ISFJ       0.00      0.00      0.00        45\n",
      "        ISFP       0.00      0.00      0.00        53\n",
      "        ISTJ       0.00      0.00      0.00        44\n",
      "        ISTP       0.89      0.12      0.21        67\n",
      "\n",
      "    accuracy                           0.56      1735\n",
      "   macro avg       0.34      0.24      0.24      1735\n",
      "weighted avg       0.54      0.56      0.51      1735\n",
      "\n"
     ]
    },
    {
     "name": "stderr",
     "output_type": "stream",
     "text": [
      "c:\\Python311\\Lib\\site-packages\\sklearn\\metrics\\_classification.py:1471: UndefinedMetricWarning: Precision and F-score are ill-defined and being set to 0.0 in labels with no predicted samples. Use `zero_division` parameter to control this behavior.\n",
      "  _warn_prf(average, modifier, msg_start, len(result))\n",
      "c:\\Python311\\Lib\\site-packages\\sklearn\\metrics\\_classification.py:1471: UndefinedMetricWarning: Precision and F-score are ill-defined and being set to 0.0 in labels with no predicted samples. Use `zero_division` parameter to control this behavior.\n",
      "  _warn_prf(average, modifier, msg_start, len(result))\n",
      "c:\\Python311\\Lib\\site-packages\\sklearn\\metrics\\_classification.py:1471: UndefinedMetricWarning: Precision and F-score are ill-defined and being set to 0.0 in labels with no predicted samples. Use `zero_division` parameter to control this behavior.\n",
      "  _warn_prf(average, modifier, msg_start, len(result))\n"
     ]
    }
   ],
   "source": [
    "# Import Libraries\n",
    "import pandas as pd\n",
    "from sklearn.model_selection import train_test_split\n",
    "from sklearn.feature_extraction.text import TfidfVectorizer\n",
    "from sklearn.ensemble import RandomForestClassifier\n",
    "from sklearn.metrics import accuracy_score, classification_report\n",
    "\n",
    "# Import Dataset\n",
    "df = pd.read_csv('dataset.csv')\n",
    "\n",
    "# Preprocess and Vectorize Text Data\n",
    "tfidf_vectorizer = TfidfVectorizer(max_features=1000)\n",
    "X = tfidf_vectorizer.fit_transform(df['posts'])\n",
    "y = df['type']\n",
    "\n",
    "# Split into Training and Test sets with a smaller training size\n",
    "X_train, X_test, y_train, y_test = train_test_split(X, y, test_size=0.2, train_size=0.2, random_state=42)\n",
    "\n",
    "# Initialize and train the Random Forest Classifier with fewer trees and parallel processing\n",
    "random_forest_model = RandomForestClassifier(n_estimators=1000, random_state=42, n_jobs=-1)\n",
    "random_forest_model.fit(X_train, y_train)\n",
    "\n",
    "# Make predictions on the test set\n",
    "predictions = random_forest_model.predict(X_test)\n",
    "\n",
    "# Evaluate the model\n",
    "accuracy = accuracy_score(y_test, predictions)\n",
    "print(f'Accuracy: {accuracy:.2f}')\n",
    "\n",
    "# Display additional evaluation metrics\n",
    "print(classification_report(y_test, predictions))\n"
   ]
  }
 ],
 "metadata": {
  "kernelspec": {
   "display_name": "Python 3",
   "language": "python",
   "name": "python3"
  },
  "language_info": {
   "codemirror_mode": {
    "name": "ipython",
    "version": 3
   },
   "file_extension": ".py",
   "mimetype": "text/x-python",
   "name": "python",
   "nbconvert_exporter": "python",
   "pygments_lexer": "ipython3",
   "version": "3.11.0"
  }
 },
 "nbformat": 4,
 "nbformat_minor": 2
}
