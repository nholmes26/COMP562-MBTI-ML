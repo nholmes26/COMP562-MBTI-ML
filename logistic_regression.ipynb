{
 "cells": [
  {
   "cell_type": "code",
   "execution_count": 1,
   "metadata": {},
   "outputs": [],
   "source": [
    "import pandas as pd\n",
    "from sklearn.model_selection import train_test_split, GridSearchCV\n",
    "from sklearn.feature_extraction.text import TfidfVectorizer\n",
    "from sklearn.linear_model import LogisticRegression\n",
    "from sklearn.metrics import accuracy_score, classification_report\n",
    "from sklearn.metrics import confusion_matrix\n",
    "import seaborn as sns\n",
    "import matplotlib.pyplot as plt"
   ]
  },
  {
   "cell_type": "code",
   "execution_count": 2,
   "metadata": {},
   "outputs": [
    {
     "name": "stdout",
     "output_type": "stream",
     "text": [
      "   type                                              posts\n",
      "0  INFJ  'http://www.youtube.com/watch?v=qsXHcwe3krw|||...\n",
      "1  ENTP  'I'm finding the lack of me in these posts ver...\n",
      "2  INTP  'Good one  _____   https://www.youtube.com/wat...\n",
      "3  INTJ  'Dear INTP,   I enjoyed our conversation the o...\n",
      "4  ENTJ  'You're fired.|||That's another silly misconce...\n"
     ]
    }
   ],
   "source": [
    "# Assuming your dataset is in a CSV file named 'personality_data.csv'\n",
    "df = pd.read_csv('mbti_1.csv')\n",
    "print(df.head())\n"
   ]
  },
  {
   "cell_type": "code",
   "execution_count": 3,
   "metadata": {},
   "outputs": [],
   "source": [
    "# Extract features and target variable\n",
    "X = df['posts']\n",
    "y = df['type']\n"
   ]
  },
  {
   "cell_type": "code",
   "execution_count": 4,
   "metadata": {},
   "outputs": [],
   "source": [
    "# Split the data into training and testing sets\n",
    "X_train, X_test, y_train, y_test = train_test_split(X, y, test_size=0.2, random_state=42)\n"
   ]
  },
  {
   "cell_type": "code",
   "execution_count": 5,
   "metadata": {},
   "outputs": [],
   "source": [
    "# Convert text data into numerical format using TF-IDF vectorization\n",
    "tfidf_vectorizer = TfidfVectorizer(max_features=5000)  # You can adjust max_features based on your dataset\n",
    "X_train_tfidf = tfidf_vectorizer.fit_transform(X_train)\n",
    "X_test_tfidf = tfidf_vectorizer.transform(X_test)\n"
   ]
  },
  {
   "cell_type": "code",
   "execution_count": 6,
   "metadata": {},
   "outputs": [
    {
     "data": {
      "text/plain": [
       "LogisticRegression(max_iter=1000)"
      ]
     },
     "execution_count": 6,
     "metadata": {},
     "output_type": "execute_result"
    }
   ],
   "source": [
    "# Create and train the logistic regression model\n",
    "model = LogisticRegression(max_iter=1000)  # You can adjust hyperparameters based on your dataset\n",
    "model.fit(X_train_tfidf, y_train)\n"
   ]
  },
  {
   "cell_type": "code",
   "execution_count": 7,
   "metadata": {},
   "outputs": [],
   "source": [
    "# Use the trained model to make predictions on the test data\n",
    "predictions = model.predict(X_test_tfidf)\n"
   ]
  },
  {
   "cell_type": "code",
   "execution_count": 8,
   "metadata": {},
   "outputs": [
    {
     "name": "stdout",
     "output_type": "stream",
     "text": [
      "Accuracy: 0.6190201729106628\n",
      "Classification Report:\n",
      "              precision    recall  f1-score   support\n",
      "\n",
      "        ENFJ       0.40      0.05      0.09        41\n",
      "        ENFP       0.73      0.58      0.65       125\n",
      "        ENTJ       0.77      0.23      0.35        44\n",
      "        ENTP       0.68      0.53      0.59       135\n",
      "        ESFJ       0.00      0.00      0.00         7\n",
      "        ESFP       0.00      0.00      0.00         8\n",
      "        ESTJ       0.00      0.00      0.00         7\n",
      "        ESTP       1.00      0.07      0.12        15\n",
      "        INFJ       0.62      0.66      0.64       288\n",
      "        INFP       0.55      0.88      0.68       370\n",
      "        INTJ       0.60      0.69      0.64       193\n",
      "        INTP       0.66      0.80      0.72       293\n",
      "        ISFJ       1.00      0.13      0.24        45\n",
      "        ISFP       0.57      0.08      0.13        53\n",
      "        ISTJ       0.80      0.09      0.16        44\n",
      "        ISTP       0.79      0.33      0.46        67\n",
      "\n",
      "    accuracy                           0.62      1735\n",
      "   macro avg       0.57      0.32      0.34      1735\n",
      "weighted avg       0.64      0.62      0.58      1735\n",
      "\n"
     ]
    },
    {
     "name": "stderr",
     "output_type": "stream",
     "text": [
      "c:\\Users\\nabdu\\anaconda3\\lib\\site-packages\\sklearn\\metrics\\_classification.py:1248: UndefinedMetricWarning: Precision and F-score are ill-defined and being set to 0.0 in labels with no predicted samples. Use `zero_division` parameter to control this behavior.\n",
      "  _warn_prf(average, modifier, msg_start, len(result))\n",
      "c:\\Users\\nabdu\\anaconda3\\lib\\site-packages\\sklearn\\metrics\\_classification.py:1248: UndefinedMetricWarning: Precision and F-score are ill-defined and being set to 0.0 in labels with no predicted samples. Use `zero_division` parameter to control this behavior.\n",
      "  _warn_prf(average, modifier, msg_start, len(result))\n",
      "c:\\Users\\nabdu\\anaconda3\\lib\\site-packages\\sklearn\\metrics\\_classification.py:1248: UndefinedMetricWarning: Precision and F-score are ill-defined and being set to 0.0 in labels with no predicted samples. Use `zero_division` parameter to control this behavior.\n",
      "  _warn_prf(average, modifier, msg_start, len(result))\n"
     ]
    }
   ],
   "source": [
    "# Assess the model's performance using accuracy and other relevant metrics\n",
    "accuracy = accuracy_score(y_test, predictions)\n",
    "report = classification_report(y_test, predictions)\n",
    "print(f\"Accuracy: {accuracy}\")\n",
    "print(f\"Classification Report:\\n{report}\")\n"
   ]
  },
  {
   "cell_type": "code",
   "execution_count": 9,
   "metadata": {},
   "outputs": [],
   "source": [
    "# creating parameter grid that will try different params \n",
    "param_grid = {'C': [0.1, 1, 10], 'max_iter': [100, 500, 1000]}\n"
   ]
  },
  {
   "cell_type": "code",
   "execution_count": 10,
   "metadata": {},
   "outputs": [
    {
     "data": {
      "text/plain": [
       "GridSearchCV(cv=5, estimator=LogisticRegression(solver='liblinear'),\n",
       "             param_grid={'C': [0.1, 1, 10], 'max_iter': [100, 500, 1000]})"
      ]
     },
     "execution_count": 10,
     "metadata": {},
     "output_type": "execute_result"
    }
   ],
   "source": [
    "# testing to find best parameters\n",
    "grid_search = GridSearchCV(LogisticRegression(solver = 'liblinear', max_iter = 100), param_grid, cv=5)\n",
    "grid_search.fit(X_train_tfidf, y_train)\n",
    "\n"
   ]
  },
  {
   "cell_type": "code",
   "execution_count": 11,
   "metadata": {},
   "outputs": [],
   "source": [
    "best_params = grid_search.best_params_\n",
    "best_model = grid_search.best_estimator_\n"
   ]
  },
  {
   "cell_type": "markdown",
   "metadata": {},
   "source": [
    "This is the result of training the model using the best possible parameters. "
   ]
  },
  {
   "cell_type": "code",
   "execution_count": 12,
   "metadata": {},
   "outputs": [
    {
     "name": "stdout",
     "output_type": "stream",
     "text": [
      "Best Parameters: {'C': 10, 'max_iter': 100}\n",
      "Accuracy: 0.6570605187319885\n",
      "Classification Report:\n",
      "              precision    recall  f1-score   support\n",
      "\n",
      "        ENFJ       0.60      0.22      0.32        41\n",
      "        ENFP       0.70      0.65      0.68       125\n",
      "        ENTJ       0.69      0.45      0.55        44\n",
      "        ENTP       0.66      0.57      0.61       135\n",
      "        ESFJ       0.00      0.00      0.00         7\n",
      "        ESFP       0.00      0.00      0.00         8\n",
      "        ESTJ       0.00      0.00      0.00         7\n",
      "        ESTP       0.60      0.20      0.30        15\n",
      "        INFJ       0.65      0.68      0.66       288\n",
      "        INFP       0.65      0.82      0.72       370\n",
      "        INTJ       0.60      0.69      0.64       193\n",
      "        INTP       0.68      0.80      0.73       293\n",
      "        ISFJ       0.92      0.49      0.64        45\n",
      "        ISFP       0.68      0.32      0.44        53\n",
      "        ISTJ       0.75      0.34      0.47        44\n",
      "        ISTP       0.72      0.49      0.58        67\n",
      "\n",
      "    accuracy                           0.66      1735\n",
      "   macro avg       0.56      0.42      0.46      1735\n",
      "weighted avg       0.66      0.66      0.64      1735\n",
      "\n"
     ]
    },
    {
     "name": "stderr",
     "output_type": "stream",
     "text": [
      "c:\\Users\\nabdu\\anaconda3\\lib\\site-packages\\sklearn\\metrics\\_classification.py:1248: UndefinedMetricWarning: Precision and F-score are ill-defined and being set to 0.0 in labels with no predicted samples. Use `zero_division` parameter to control this behavior.\n",
      "  _warn_prf(average, modifier, msg_start, len(result))\n",
      "c:\\Users\\nabdu\\anaconda3\\lib\\site-packages\\sklearn\\metrics\\_classification.py:1248: UndefinedMetricWarning: Precision and F-score are ill-defined and being set to 0.0 in labels with no predicted samples. Use `zero_division` parameter to control this behavior.\n",
      "  _warn_prf(average, modifier, msg_start, len(result))\n",
      "c:\\Users\\nabdu\\anaconda3\\lib\\site-packages\\sklearn\\metrics\\_classification.py:1248: UndefinedMetricWarning: Precision and F-score are ill-defined and being set to 0.0 in labels with no predicted samples. Use `zero_division` parameter to control this behavior.\n",
      "  _warn_prf(average, modifier, msg_start, len(result))\n"
     ]
    }
   ],
   "source": [
    "# Use the best model to make predictions\n",
    "predictions = best_model.predict(X_test_tfidf)\n",
    "\n",
    "# Assess the model's performance using accuracy and other relevant metrics\n",
    "accuracy = accuracy_score(y_test, predictions)\n",
    "report = classification_report(y_test, predictions)\n",
    "print(f\"Best Parameters: {best_params}\")\n",
    "print(f\"Accuracy: {accuracy}\")\n",
    "print(f\"Classification Report:\\n{report}\")\n"
   ]
  },
  {
   "cell_type": "code",
   "execution_count": 14,
   "metadata": {},
   "outputs": [
    {
     "data": {
      "image/png": "[encoded data removed]",
      "text/plain": [
       "<Figure size 432x288 with 2 Axes>"
      ]
     },
     "metadata": {
      "needs_background": "light"
     },
     "output_type": "display_data"
    }
   ],
   "source": [
    "# Assuming you already have the best model and predictions\n",
    "predictions = best_model.predict(X_test_tfidf)\n",
    "\n",
    "# Generate a confusion matrix\n",
    "conf_matrix = confusion_matrix(y_test, predictions)\n",
    "\n",
    "mbti_types = ['INTJ', 'INTP', 'ENTJ', 'ENTP', 'INFJ', 'INFP', 'ENFJ', 'ENFP', 'ISTJ', 'ISFJ', 'ESTJ', 'ESFJ', 'ISTP', 'ISFP', 'ESTP', 'ESFP']\n",
    "\n",
    "# Display the confusion matrix as a heatmap\n",
    "sns.heatmap(conf_matrix, annot=True, fmt='d', cmap='Blues', xticklabels=mbti_types, yticklabels=mbti_types)\n",
    "plt.xlabel('Predicted')\n",
    "plt.ylabel('Actual')\n",
    "plt.title('Confusion Matrix')\n",
    "plt.show()\n"
   ]
  },
  {
   "cell_type": "code",
   "execution_count": 15,
   "metadata": {},
   "outputs": [
    {
     "name": "stdout",
     "output_type": "stream",
     "text": [
      "  Letters Off  Percentage of Incorrect  Percentage of Total\n",
      " 1 Letter Off                55.630252            19.077810\n",
      "2 Letters Off                30.756303            10.547550\n",
      "3 Letters Off                12.605042             4.322767\n",
      "4 Letters Off                 1.008403             0.345821\n"
     ]
    }
   ],
   "source": [
    "def calculate_letter_off_metrics(actual, predicted):\n",
    "    letter_off_counts = {i: 0 for i in range(1, 5)}\n",
    "    incorrect_counts = {i: 0 for i in range(1, 5)}\n",
    "    incorrect_count = 0\n",
    "\n",
    "    for act, pred in zip(actual, predicted):\n",
    "        differences = sum(1 for a, p in zip(act, pred) if a != p)\n",
    "        \n",
    "        if 1 <= differences <= 4:\n",
    "            letter_off_counts[differences] += 1\n",
    "            if act != pred:\n",
    "                incorrect_counts[differences] += 1\n",
    "        \n",
    "        if act != pred:\n",
    "            incorrect_count += 1\n",
    "\n",
    "    total_predictions = len(actual)\n",
    "    metrics = {\n",
    "        \"Letters Off\": [],\n",
    "        \"Percentage of Incorrect\": [],\n",
    "        \"Percentage of Total\": []\n",
    "    }\n",
    "\n",
    "    for i in range(1, 5):\n",
    "        incorrect_percentage = (incorrect_counts[i] / incorrect_count) * 100 if incorrect_count > 0 else 0\n",
    "        total_percentage = (letter_off_counts[i] / total_predictions) * 100\n",
    "        metrics[\"Letters Off\"].append(f\"{i} Letter{'s' if i > 1 else ''} Off\")\n",
    "        metrics[\"Percentage of Incorrect\"].append(incorrect_percentage)\n",
    "        metrics[\"Percentage of Total\"].append(total_percentage)\n",
    "\n",
    "    return pd.DataFrame(metrics)\n",
    "\n",
    "# Assuming test_labels and predictions are your actual and predicted MBTI types\n",
    "metrics_df = calculate_letter_off_metrics(y_test, predictions)\n",
    "\n",
    "# Display the DataFrame without the index\n",
    "print(metrics_df.to_string(index=False))"
   ]
  }
 ],
 "metadata": {
  "kernelspec": {
   "display_name": "Python 3",
   "language": "python",
   "name": "python3"
  },
  "language_info": {
   "codemirror_mode": {
    "name": "ipython",
    "version": 3
   },
   "file_extension": ".py",
   "mimetype": "text/x-python",
   "name": "python",
   "nbconvert_exporter": "python",
   "pygments_lexer": "ipython3",
   "version": "3.9.7"
  }
 },
 "nbformat": 4,
 "nbformat_minor": 2
}
